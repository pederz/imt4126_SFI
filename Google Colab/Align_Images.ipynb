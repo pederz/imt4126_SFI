{
  "nbformat": 4,
  "nbformat_minor": 0,
  "metadata": {
    "colab": {
      "name": "Align_Images",
      "provenance": [],
      "collapsed_sections": []
    },
    "kernelspec": {
      "name": "python3",
      "display_name": "Python 3"
    },
    "language_info": {
      "name": "python"
    }
  },
  "cells": [
    {
      "cell_type": "code",
      "execution_count": 8,
      "metadata": {
        "id": "dzSyFmYvDDWo"
      },
      "outputs": [],
      "source": [
        "%tensorflow_version 1.x"
      ]
    },
    {
      "cell_type": "code",
      "source": [
        "from google.colab import drive\n",
        "drive.mount('/content/gdrive/')"
      ],
      "metadata": {
        "id": "mVC-KL94FvFJ"
      },
      "execution_count": null,
      "outputs": []
    },
    {
      "cell_type": "markdown",
      "source": [
        "The mkdir and the git clone cells are not needed if the files exist in your google drive and you have cloned the github repo to the google drive."
      ],
      "metadata": {
        "id": "WJ9iedSOF6NY"
      }
    },
    {
      "cell_type": "code",
      "source": [
        "mkdir /content/gdrive/MyDrive/Biometrics/stylegan2encoder/"
      ],
      "metadata": {
        "id": "tIAOHuMuFxJM"
      },
      "execution_count": null,
      "outputs": []
    },
    {
      "cell_type": "code",
      "source": [
        "cd /content/gdrive/MyDrive/Biometrics/stylegan2encoder/"
      ],
      "metadata": {
        "id": "N8a1oHk0Fyq3",
        "colab": {
          "base_uri": "https://localhost:8080/"
        },
        "outputId": "f2710947-9a22-4687-e83e-5c285001da09"
      },
      "execution_count": 10,
      "outputs": [
        {
          "output_type": "stream",
          "name": "stdout",
          "text": [
            "/content/gdrive/MyDrive/Biometrics/stylegan2encoder\n"
          ]
        }
      ]
    },
    {
      "cell_type": "code",
      "source": [
        "!git clone https://github.com/rolux/stylegan2encoder.git ."
      ],
      "metadata": {
        "id": "1Rn2x9ZeF1T5"
      },
      "execution_count": null,
      "outputs": []
    },
    {
      "cell_type": "code",
      "source": [
        "import sys\n",
        "import os\n",
        "\n",
        "py_file_location = \"/content/gdrive/MyDrive/Biometrics/stylegan2encoder/\"\n",
        "sys.path.append(os.path.abspath(py_file_location))"
      ],
      "metadata": {
        "id": "CWY1hwMBHCTn"
      },
      "execution_count": 11,
      "outputs": []
    },
    {
      "cell_type": "code",
      "source": [
        "!python align_images.py ../samples/raw_images/ ../samples/align_images/"
      ],
      "metadata": {
        "id": "ssEheUzVHHy8"
      },
      "execution_count": null,
      "outputs": []
    }
  ]
}